{
  "cells": [
    {
      "cell_type": "markdown",
      "metadata": {
        "id": "view-in-github",
        "colab_type": "text"
      },
      "source": [
        "<a href=\"https://colab.research.google.com/github/mlmaniac-neelothkulaambaal/MLProjects/blob/main/Welcome_To_Colaboratory.ipynb\" target=\"_parent\"><img src=\"https://colab.research.google.com/assets/colab-badge.svg\" alt=\"Open In Colab\"/></a>"
      ]
    },
    {
      "cell_type": "markdown",
      "source": [
        "**1. Download text from given URL**"
      ],
      "metadata": {
        "id": "m0GfgTL1rCzC"
      }
    },
    {
      "cell_type": "code",
      "source": [
        "!wget https://ditotw.space/NASA_access_log_Jul95.gz"
      ],
      "metadata": {
        "id": "TqsaZLWmO2j9",
        "outputId": "0d001f3a-74ed-4451-dacd-84784ffee653",
        "colab": {
          "base_uri": "https://localhost:8080/"
        }
      },
      "execution_count": 39,
      "outputs": [
        {
          "output_type": "stream",
          "name": "stdout",
          "text": [
            "--2022-02-07 12:44:26--  https://ditotw.space/NASA_access_log_Jul95.gz\n",
            "Resolving ditotw.space (ditotw.space)... 162.241.217.135\n",
            "Connecting to ditotw.space (ditotw.space)|162.241.217.135|:443... connected.\n",
            "HTTP request sent, awaiting response... 200 OK\n",
            "Length: 20676672 (20M) [application/x-gzip]\n",
            "Saving to: ‘NASA_access_log_Jul95.gz’\n",
            "\n",
            "NASA_access_log_Jul 100%[===================>]  19.72M  7.00MB/s    in 2.8s    \n",
            "\n",
            "2022-02-07 12:44:29 (7.00 MB/s) - ‘NASA_access_log_Jul95.gz’ saved [20676672/20676672]\n",
            "\n"
          ]
        }
      ]
    },
    {
      "cell_type": "markdown",
      "source": [
        "**2. Install pyspark and importing necessary libraries**"
      ],
      "metadata": {
        "id": "ksGaLQ-hrPP3"
      }
    },
    {
      "cell_type": "code",
      "source": [
        "pip install pyspark"
      ],
      "metadata": {
        "id": "ednzKEIdtpp1",
        "outputId": "59c590a8-b7cd-4cb1-c875-0dd9fb5de52c",
        "colab": {
          "base_uri": "https://localhost:8080/"
        }
      },
      "execution_count": 40,
      "outputs": [
        {
          "output_type": "stream",
          "name": "stdout",
          "text": [
            "Requirement already satisfied: pyspark in /usr/local/lib/python3.7/dist-packages (3.2.1)\n",
            "Requirement already satisfied: py4j==0.10.9.3 in /usr/local/lib/python3.7/dist-packages (from pyspark) (0.10.9.3)\n"
          ]
        }
      ]
    },
    {
      "cell_type": "code",
      "source": [
        "from pyspark import SparkContext,SparkConf\n",
        "from pyspark.sql import SQLContext\n",
        "import os.path\n",
        "import re"
      ],
      "metadata": {
        "id": "vi126u6ctuvC"
      },
      "execution_count": 41,
      "outputs": []
    },
    {
      "cell_type": "markdown",
      "source": [
        "**3. Confirm that the download is successful. The file is in the local working direrctory in Google Colab.**"
      ],
      "metadata": {
        "id": "p8CVDLcn5yjV"
      }
    },
    {
      "cell_type": "code",
      "source": [
        "mypath='/content/NASA_access_log_Jul95.gz'\n",
        "os.path.isfile(mypath)"
      ],
      "metadata": {
        "id": "runBdtT9tyVx",
        "outputId": "16b666a7-5f2e-47d2-f6bf-1e8034295456",
        "colab": {
          "base_uri": "https://localhost:8080/"
        }
      },
      "execution_count": 75,
      "outputs": [
        {
          "output_type": "execute_result",
          "data": {
            "text/plain": [
              "True"
            ]
          },
          "metadata": {},
          "execution_count": 75
        }
      ]
    },
    {
      "cell_type": "markdown",
      "source": [
        "**4. Create sparkcontext and RDD**"
      ],
      "metadata": {
        "id": "sGf0e13x6cmM"
      }
    },
    {
      "cell_type": "code",
      "source": [
        "config = SparkConf().setAppName(\"NASA_Logs\").setMaster(\"local[*]\")\n",
        "sc = SparkContext.getOrCreate(config)\n",
        "sqlcontext = SQLContext(sc)\n",
        "rdd = sc.textFile(mypath)\n"
      ],
      "metadata": {
        "id": "gORK-OwVt1Gt",
        "outputId": "15d5920b-bc9e-41f4-9249-c5f7c806edca",
        "colab": {
          "base_uri": "https://localhost:8080/"
        }
      },
      "execution_count": 76,
      "outputs": [
        {
          "output_type": "stream",
          "name": "stderr",
          "text": [
            "/usr/local/lib/python3.7/dist-packages/pyspark/sql/context.py:79: FutureWarning: Deprecated in 3.0.0. Use SparkSession.builder.getOrCreate() instead.\n",
            "  FutureWarning\n"
          ]
        }
      ]
    },
    {
      "cell_type": "markdown",
      "source": [
        "**5. Check number of rows in the RDD**"
      ],
      "metadata": {
        "id": "-ywC2SLo7PbU"
      }
    },
    {
      "cell_type": "code",
      "source": [
        "rdd.count()"
      ],
      "metadata": {
        "id": "sMqFgHN2rlWo",
        "outputId": "c64dbbe3-5b4f-4f21-aa14-527da4189809",
        "colab": {
          "base_uri": "https://localhost:8080/"
        }
      },
      "execution_count": 77,
      "outputs": [
        {
          "output_type": "execute_result",
          "data": {
            "text/plain": [
              "1891715"
            ]
          },
          "metadata": {},
          "execution_count": 77
        }
      ]
    },
    {
      "cell_type": "markdown",
      "source": [
        "**6. Printing first 5 records in the RDD**"
      ],
      "metadata": {
        "id": "SqzHQE857U8z"
      }
    },
    {
      "cell_type": "code",
      "source": [
        "rdd.take(1)"
      ],
      "metadata": {
        "id": "b4pGQ9bCYHRL",
        "outputId": "5f72fe11-27f4-4428-9c74-79762eae44fd",
        "colab": {
          "base_uri": "https://localhost:8080/"
        }
      },
      "execution_count": 78,
      "outputs": [
        {
          "output_type": "execute_result",
          "data": {
            "text/plain": [
              "['199.72.81.55 - - [01/Jul/1995:00:00:01 -0400] \"GET /history/apollo/ HTTP/1.0\" 200 6245']"
            ]
          },
          "metadata": {},
          "execution_count": 78
        }
      ]
    },
    {
      "cell_type": "code",
      "source": [
        "i=0\n",
        "for line in rdd.sample(withReplacement = False, fraction = 0.00001, seed = 100).collect():\n",
        "    i=i+1\n",
        "    print(line)\n",
        "    if i >5:\n",
        "      break"
      ],
      "metadata": {
        "id": "VDiAJ9u7xVVG",
        "outputId": "c0a9e4d8-1c0e-4be9-b9c0-0c0851b0cbdc",
        "colab": {
          "base_uri": "https://localhost:8080/"
        }
      },
      "execution_count": 79,
      "outputs": [
        {
          "output_type": "stream",
          "name": "stdout",
          "text": [
            "ix-lb7-05.ix.netcom.com - - [02/Jul/1995:04:04:00 -0400] \"GET /shuttle/missions/sts-71/images/images.html HTTP/1.0\" 200 7634\n",
            "zachar.fast.net - - [03/Jul/1995:00:06:07 -0400] \"GET /shuttle/technology/images/sts_body_2-small.gif HTTP/1.0\" 200 30067\n",
            "ix-bos8-08.ix.netcom.com - - [03/Jul/1995:11:48:45 -0400] \"GET /images/USA-logosmall.gif HTTP/1.0\" 200 234\n",
            "199.120.22.3 - - [03/Jul/1995:21:24:27 -0400] \"GET /shuttle/missions/sts-67/sts-67-patch-small.gif HTTP/1.0\" 200 17083\n",
            "wstabnow.clark.net - - [04/Jul/1995:13:37:33 -0400] \"GET /shuttle/technology/images/srb_mod_compare_1-small.gif HTTP/1.0\" 200 36902\n",
            "alyssa.prodigy.com - - [05/Jul/1995:23:59:57 -0400] \"GET /history/apollo/apollo-4/images/ HTTP/1.0\" 200 514\n"
          ]
        }
      ]
    },
    {
      "cell_type": "code",
      "source": [
        "def parse_log1(line):\n",
        "    match = re.search('^(\\S+) (\\S+) (\\S+) \\[(\\S+) [-](\\d{4})\\] \"(\\S+)\\s*(\\S+)\\s*(\\S+)\\s*([\\w\\.\\s*]+)?\\s*\"*(\\d{3}) (\\S+)', line)\n",
        "    if match is None:\n",
        "        return 0\n",
        "    else:\n",
        "        return 1\n",
        "\n",
        "n_logs = rdd.count()\n",
        "\n",
        "failed = rdd.map(lambda line: parse_log1(line)).filter(lambda line: line == 0).count()\n",
        "\n",
        "print('Out of {} logs, {} failed to parse'.format(n_logs,failed))"
      ],
      "metadata": {
        "id": "UlPRfOAayT0Q",
        "outputId": "eade7f7a-fbf8-4931-926f-a3d6848d0db0",
        "colab": {
          "base_uri": "https://localhost:8080/"
        }
      },
      "execution_count": 80,
      "outputs": [
        {
          "output_type": "stream",
          "name": "stdout",
          "text": [
            "Out of 1891715 logs, 855 failed to parse\n"
          ]
        }
      ]
    },
    {
      "cell_type": "code",
      "source": [
        "def parse_log2(line):\n",
        "\n",
        "    match = re.search('^(\\S+) (\\S+) (\\S+) \\[(\\S+) [-](\\d{4})\\] \"(\\S+)\\s*(\\S+)\\s*(\\S+)\\s*([/\\w\\.\\s*]+)?\\s*\"* (\\d{3}) (\\S+)',line)\n",
        "    if match is None:\n",
        "        match = re.search('^(\\S+) (\\S+) (\\S+) \\[(\\S+) [-](\\d{4})\\] \"(\\S+)\\s*([/\\w\\.]+)>*([\\w/\\s\\.]+)\\s*(\\S+)\\s*(\\d{3})\\s*(\\S+)',line)\n",
        "    if match is None:\n",
        "        return (line, 0)\n",
        "    else:\n",
        "        return (line, 1)\n",
        "\n",
        "failed = rdd.map(lambda line: parse_log2(line)).filter(lambda line: line[1] == 0).count()\n",
        "\n",
        "print('Out of {} logs, {} failed to parse'.format(n_logs,failed))"
      ],
      "metadata": {
        "id": "-ERkK5K_ygho",
        "outputId": "d067631c-c651-4391-e882-df1c5c8f81a3",
        "colab": {
          "base_uri": "https://localhost:8080/"
        }
      },
      "execution_count": 81,
      "outputs": [
        {
          "output_type": "stream",
          "name": "stdout",
          "text": [
            "Out of 1891715 logs, 622 failed to parse\n"
          ]
        }
      ]
    },
    {
      "cell_type": "code",
      "source": [
        "def map_log(line):\n",
        "\n",
        "    match = re.search('^(\\S+) (\\S+) (\\S+) \\[(\\S+) [-](\\d{4})\\] \"(\\S+)\\s*(\\S+)\\s*(\\S+)\\s*([/\\w\\.\\s*]+)?\\s*\"* (\\d{3}) (\\S+)',line)\n",
        "    if match is None:\n",
        "        match = re.search('^(\\S+) (\\S+) (\\S+) \\[(\\S+) [-](\\d{4})\\] \"(\\S+)\\s*([/\\w\\.]+)>*([\\w/\\s\\.]+)\\s*(\\S+)\\s*(\\d{3})\\s*(\\S+)',line)\n",
        "    \n",
        "    return(match.groups())"
      ],
      "metadata": {
        "id": "4TapM3WvymfA"
      },
      "execution_count": 82,
      "outputs": []
    },
    {
      "cell_type": "code",
      "source": [
        "parsed_rdd = rdd.map(lambda line: parse_log2(line)).filter(lambda line: line[1] == 1).map(lambda line : line[0])"
      ],
      "metadata": {
        "id": "ieiJIf1LNego"
      },
      "execution_count": 83,
      "outputs": []
    },
    {
      "cell_type": "code",
      "source": [
        "parsed_rdd2 = parsed_rdd.map(lambda line: map_log(line))"
      ],
      "metadata": {
        "id": "StsnObcqyuAD"
      },
      "execution_count": 84,
      "outputs": []
    },
    {
      "cell_type": "code",
      "source": [
        "for i in parsed_rdd2.take(3):\n",
        "    print(i)\n",
        "    print('\\n')"
      ],
      "metadata": {
        "id": "B5V3i0UiMXTM",
        "outputId": "66357397-792b-4bf0-ed84-28d1ea3720dd",
        "colab": {
          "base_uri": "https://localhost:8080/"
        }
      },
      "execution_count": 85,
      "outputs": [
        {
          "output_type": "stream",
          "name": "stdout",
          "text": [
            "('199.72.81.55', '-', '-', '01/Jul/1995:00:00:01', '0400', 'GET', '/history/apollo/', 'HTTP/1.0\"', None, '200', '6245')\n",
            "\n",
            "\n",
            "('unicomp6.unicomp.net', '-', '-', '01/Jul/1995:00:00:06', '0400', 'GET', '/shuttle/countdown/', 'HTTP/1.0\"', None, '200', '3985')\n",
            "\n",
            "\n",
            "('199.120.110.21', '-', '-', '01/Jul/1995:00:00:09', '0400', 'GET', '/shuttle/missions/sts-73/mission-sts-73.html', 'HTTP/1.0\"', None, '200', '4085')\n",
            "\n",
            "\n"
          ]
        }
      ]
    },
    {
      "cell_type": "code",
      "source": [
        "parsed_rdd2.map(lambda line: len(line)).distinct().collect()"
      ],
      "metadata": {
        "id": "ZPbouTl8y-C4",
        "outputId": "ec0a6850-ddd6-4b39-9450-4fb17e4d4ec1",
        "colab": {
          "base_uri": "https://localhost:8080/"
        }
      },
      "execution_count": 86,
      "outputs": [
        {
          "output_type": "execute_result",
          "data": {
            "text/plain": [
              "[11]"
            ]
          },
          "metadata": {},
          "execution_count": 86
        }
      ]
    },
    {
      "cell_type": "code",
      "source": [
        "def result(n):\n",
        "  result = parsed_rdd2.map(lambda line: (line[0],1)).reduceByKey(lambda a, b: a + b).takeOrdered(n, lambda x: -x[1])\n",
        "  print(result)"
      ],
      "metadata": {
        "id": "Awa2mcv1zSZy"
      },
      "execution_count": 105,
      "outputs": []
    },
    {
      "cell_type": "code",
      "source": [
        "n=input('Enter top N sites you wish to see:')\n",
        "\n",
        "result(int(n))\n"
      ],
      "metadata": {
        "id": "FAupGPXAOmiy",
        "outputId": "624c6321-496a-4edd-c98b-d3d2d1ab068b",
        "colab": {
          "base_uri": "https://localhost:8080/"
        }
      },
      "execution_count": 106,
      "outputs": [
        {
          "output_type": "stream",
          "name": "stdout",
          "text": [
            "Enter top N sites you wish to see:3\n",
            "[('piweba3y.prodigy.com', 17572), ('piweba4y.prodigy.com', 11591), ('piweba1y.prodigy.com', 9868)]\n"
          ]
        }
      ]
    }
  ],
  "metadata": {
    "colab": {
      "collapsed_sections": [],
      "name": "Welcome To Colaboratory",
      "provenance": [],
      "include_colab_link": true
    },
    "kernelspec": {
      "display_name": "Python 3",
      "name": "python3"
    },
    "accelerator": "GPU"
  },
  "nbformat": 4,
  "nbformat_minor": 0
}